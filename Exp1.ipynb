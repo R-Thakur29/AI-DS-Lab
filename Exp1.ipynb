{
 "cells": [
  {
   "cell_type": "code",
   "execution_count": 1,
   "metadata": {},
   "outputs": [],
   "source": [
    "# import the pandas library\n",
    "import pandas as pd\n",
    "import numpy as np"
   ]
  },
  {
   "cell_type": "code",
   "execution_count": 2,
   "metadata": {},
   "outputs": [],
   "source": [
    "# read csv\n",
    "df = pd.read_csv(\"apartments_for_rent_classified_10K.csv\", sep=\";\", encoding='cp1252')\n"
   ]
  },
  {
   "cell_type": "code",
   "execution_count": 3,
   "metadata": {},
   "outputs": [
    {
     "name": "stdout",
     "output_type": "stream",
     "text": [
      "(10000, 22)\n"
     ]
    }
   ],
   "source": [
    "# To print no. of samples and attributes\n",
    "print(df.shape)"
   ]
  },
  {
   "cell_type": "code",
   "execution_count": 4,
   "metadata": {},
   "outputs": [
    {
     "name": "stdout",
     "output_type": "stream",
     "text": [
      "['id', 'category', 'title', 'body', 'amenities', 'bathrooms', 'bedrooms', 'currency', 'fee', 'has_photo', 'pets_allowed', 'price', 'price_display', 'price_type', 'square_feet', 'address', 'cityname', 'state', 'latitude', 'longitude', 'source', 'time']\n"
     ]
    }
   ],
   "source": [
    "# getting the columns of the dataset\n",
    "columns = list(df.columns)\n",
    "print(columns)"
   ]
  },
  {
   "cell_type": "code",
   "execution_count": 5,
   "metadata": {},
   "outputs": [
    {
     "name": "stdout",
     "output_type": "stream",
     "text": [
      "           id                category   \n",
      "0  5668626895  housing/rent/apartment  \\\n",
      "1  5664597177  housing/rent/apartment   \n",
      "2  5668626833  housing/rent/apartment   \n",
      "3  5659918074  housing/rent/apartment   \n",
      "4  5668626759  housing/rent/apartment   \n",
      "\n",
      "                                               title   \n",
      "0  Studio apartment 2nd St NE, Uhland Terrace NE,...  \\\n",
      "1                  Studio apartment 814 Schutte Road   \n",
      "2  Studio apartment N Scott St, 14th St N, Arling...   \n",
      "3                     Studio apartment 1717 12th Ave   \n",
      "4  Studio apartment Washington Blvd, N Cleveland ...   \n",
      "\n",
      "                                                body amenities  bathrooms   \n",
      "0  This unit is located at second St NE, Uhland T...        10        5.0  \\\n",
      "1  This unit is located at 814 Schutte Road, Evan...         5        5.0   \n",
      "2  This unit is located at N Scott St, 14th St N,...         5        1.0   \n",
      "3  This unit is located at 1717 12th Ave, Seattle...         7        1.0   \n",
      "4  This unit is located at Washington Blvd, N Cle...         9        5.0   \n",
      "\n",
      "   bedrooms currency fee  has_photo  ... price_display  price_type   \n",
      "0         0      USD  No  Thumbnail  ...          $790     Monthly  \\\n",
      "1         1      USD  No  Thumbnail  ...          $425     Monthly   \n",
      "2         0      USD  No  Thumbnail  ...        $1,390     Monthly   \n",
      "3         0      USD  No  Thumbnail  ...          $925     Monthly   \n",
      "4         0      USD  No  Thumbnail  ...          $880     Monthly   \n",
      "\n",
      "  square_feet           address    cityname state latitude longitude   \n",
      "0         101                 5  Washington    DC  38.9057  -76.9861  \\\n",
      "1         106    814 Schutte Rd  Evansville    IN  37.9680  -87.6621   \n",
      "2         107                 5   Arlington    VA  38.8910  -77.0816   \n",
      "3         116  1717 12th Avenue     Seattle    WA  47.6160 -122.3275   \n",
      "4         125                 5   Arlington    VA  38.8738  -77.1055   \n",
      "\n",
      "      source        time  \n",
      "0  RentLingo  1577359415  \n",
      "1  RentLingo  1577017063  \n",
      "2  RentLingo  1577359410  \n",
      "3  RentLingo  1576667743  \n",
      "4  RentLingo  1577359401  \n",
      "\n",
      "[5 rows x 22 columns]\n"
     ]
    }
   ],
   "source": [
    "# To print first five samples\n",
    "print(df.head()) "
   ]
  },
  {
   "cell_type": "code",
   "execution_count": 6,
   "metadata": {},
   "outputs": [
    {
     "name": "stdout",
     "output_type": "stream",
     "text": [
      "                 id     bathrooms      bedrooms         price   square_feet   \n",
      "count  1.000000e+04  10000.000000  10000.000000  10000.000000  10000.000000  \\\n",
      "mean   5.623396e+09      1.392850      1.746300   1486.277500    945.810500   \n",
      "std    7.021025e+07      0.649489      0.945952   1076.507968    655.755736   \n",
      "min    5.508654e+09      1.000000      0.000000    200.000000    101.000000   \n",
      "25%    5.509248e+09      1.000000      1.000000    949.000000    649.000000   \n",
      "50%    5.668610e+09      1.000000      2.000000   1270.000000    802.000000   \n",
      "75%    5.668626e+09      2.000000      2.000000   1695.000000   1100.000000   \n",
      "max    5.668663e+09      8.500000      9.000000  52500.000000  40000.000000   \n",
      "\n",
      "           latitude     longitude          time  \n",
      "count  10000.000000  10000.000000  1.000000e+04  \n",
      "mean      37.662467    -94.552595  1.574891e+09  \n",
      "std        5.589471     16.063769  3.762395e+06  \n",
      "min        5.000000   -158.022100  1.568744e+09  \n",
      "25%       33.679500   -101.301700  1.568781e+09  \n",
      "50%       38.807700    -93.651600  1.577358e+09  \n",
      "75%       41.349800    -82.116800  1.577359e+09  \n",
      "max       61.594000      5.000000  1.577362e+09  \n"
     ]
    }
   ],
   "source": [
    "#Describing dataset \n",
    "print(df.describe())"
   ]
  },
  {
   "cell_type": "code",
   "execution_count": 7,
   "metadata": {},
   "outputs": [
    {
     "name": "stdout",
     "output_type": "stream",
     "text": [
      "id                  0\n",
      "category            0\n",
      "title               0\n",
      "body                0\n",
      "amenities           0\n",
      "bathrooms           0\n",
      "bedrooms            0\n",
      "currency            0\n",
      "fee                 0\n",
      "has_photo           0\n",
      "pets_allowed     2415\n",
      "price               0\n",
      "price_display       0\n",
      "price_type          0\n",
      "square_feet         0\n",
      "address             0\n",
      "cityname            0\n",
      "state               0\n",
      "latitude            0\n",
      "longitude           0\n",
      "source              0\n",
      "time                0\n",
      "dtype: int64\n",
      "Missing values distribution: \n",
      "id               0.0000\n",
      "category         0.0000\n",
      "title            0.0000\n",
      "body             0.0000\n",
      "amenities        0.0000\n",
      "bathrooms        0.0000\n",
      "bedrooms         0.0000\n",
      "currency         0.0000\n",
      "fee              0.0000\n",
      "has_photo        0.0000\n",
      "pets_allowed     0.2415\n",
      "price            0.0000\n",
      "price_display    0.0000\n",
      "price_type       0.0000\n",
      "square_feet      0.0000\n",
      "address          0.0000\n",
      "cityname         0.0000\n",
      "state            0.0000\n",
      "latitude         0.0000\n",
      "longitude        0.0000\n",
      "source           0.0000\n",
      "time             0.0000\n",
      "dtype: float64\n"
     ]
    }
   ],
   "source": [
    "#New dataframe \n",
    "new_df = df\n",
    "#new_df.isnull()\n",
    "#Checking for null values \n",
    "print(new_df.isnull().sum()) \n",
    "print(\"Missing values distribution: \")\n",
    "print(new_df.isnull().mean())\n",
    "#print(new_df.shape) \n",
    "#new_df.duplicated()"
   ]
  },
  {
   "cell_type": "code",
   "execution_count": 8,
   "metadata": {},
   "outputs": [
    {
     "name": "stdout",
     "output_type": "stream",
     "text": [
      "False\n",
      "0       False\n",
      "1       False\n",
      "2       False\n",
      "3       False\n",
      "4       False\n",
      "        ...  \n",
      "9995    False\n",
      "9996    False\n",
      "9997    False\n",
      "9998    False\n",
      "9999    False\n",
      "Length: 10000, dtype: bool\n",
      "(10000, 22)\n"
     ]
    }
   ],
   "source": [
    "# #Checking for duplicates\n",
    "print(new_df.duplicated().any()) \n",
    "print(new_df.duplicated())\n",
    "print(new_df.shape) "
   ]
  },
  {
   "cell_type": "code",
   "execution_count": 9,
   "metadata": {},
   "outputs": [
    {
     "name": "stdout",
     "output_type": "stream",
     "text": [
      "Column datatypes: \n",
      "id                 int64\n",
      "category          object\n",
      "title             object\n",
      "body              object\n",
      "amenities         object\n",
      "bathrooms        float64\n",
      "bedrooms           int64\n",
      "currency          object\n",
      "fee               object\n",
      "has_photo         object\n",
      "pets_allowed      object\n",
      "price              int64\n",
      "price_display     object\n",
      "price_type        object\n",
      "square_feet        int64\n",
      "address           object\n",
      "cityname          object\n",
      "state             object\n",
      "latitude         float64\n",
      "longitude        float64\n",
      "source            object\n",
      "time               int64\n",
      "dtype: object\n"
     ]
    }
   ],
   "source": [
    "print(\"Column datatypes: \")\n",
    "print(new_df.dtypes)"
   ]
  },
  {
   "cell_type": "code",
   "execution_count": 10,
   "metadata": {},
   "outputs": [
    {
     "name": "stdout",
     "output_type": "stream",
     "text": [
      "           id                category   \n",
      "0  5668626895  housing/rent/apartment  \\\n",
      "1  5664597177  housing/rent/apartment   \n",
      "2  5668626833  housing/rent/apartment   \n",
      "3  5659918074  housing/rent/apartment   \n",
      "4  5668626759  housing/rent/apartment   \n",
      "\n",
      "                                               title   \n",
      "0  Studio apartment 2nd St NE, Uhland Terrace NE,...  \\\n",
      "1                  Studio apartment 814 Schutte Road   \n",
      "2  Studio apartment N Scott St, 14th St N, Arling...   \n",
      "3                     Studio apartment 1717 12th Ave   \n",
      "4  Studio apartment Washington Blvd, N Cleveland ...   \n",
      "\n",
      "                                                body amenities  bathrooms   \n",
      "0  This unit is located at second St NE, Uhland T...        10        5.0  \\\n",
      "1  This unit is located at 814 Schutte Road, Evan...         5        5.0   \n",
      "2  This unit is located at N Scott St, 14th St N,...         5        1.0   \n",
      "3  This unit is located at 1717 12th Ave, Seattle...         7        1.0   \n",
      "4  This unit is located at Washington Blvd, N Cle...         9        5.0   \n",
      "\n",
      "   bedrooms currency fee  has_photo  ... price_display  price_type   \n",
      "0         0      USD  No  Thumbnail  ...          $790     Monthly  \\\n",
      "1         1      USD  No  Thumbnail  ...          $425     Monthly   \n",
      "2         0      USD  No  Thumbnail  ...        $1,390     Monthly   \n",
      "3         0      USD  No  Thumbnail  ...          $925     Monthly   \n",
      "4         0      USD  No  Thumbnail  ...          $880     Monthly   \n",
      "\n",
      "  square_feet           address    cityname state latitude longitude   \n",
      "0         101                 5  Washington    DC  38.9057  -76.9861  \\\n",
      "1         106    814 Schutte Rd  Evansville    IN  37.9680  -87.6621   \n",
      "2         107                 5   Arlington    VA  38.8910  -77.0816   \n",
      "3         116  1717 12th Avenue     Seattle    WA  47.6160 -122.3275   \n",
      "4         125                 5   Arlington    VA  38.8738  -77.1055   \n",
      "\n",
      "      source        time  \n",
      "0  RentLingo  1577359415  \n",
      "1  RentLingo  1577017063  \n",
      "2  RentLingo  1577359410  \n",
      "3  RentLingo  1576667743  \n",
      "4  RentLingo  1577359401  \n",
      "\n",
      "[5 rows x 22 columns]\n",
      "(10000, 22)\n"
     ]
    }
   ],
   "source": [
    "#Replacing string values with integer \n",
    "new_df[\"price_display\"].replace({'$', ','}, inplace = True) \n",
    "print(new_df.head())\n",
    "print(new_df.shape)"
   ]
  },
  {
   "cell_type": "code",
   "execution_count": 11,
   "metadata": {},
   "outputs": [
    {
     "name": "stdout",
     "output_type": "stream",
     "text": [
      "['Monthly' 'Weekly' 'Monthly|Weekly']\n"
     ]
    }
   ],
   "source": [
    "#Finding unique values in \"Region\" \n",
    "print(new_df[\"price_type\"].unique()) "
   ]
  },
  {
   "cell_type": "code",
   "execution_count": 12,
   "metadata": {},
   "outputs": [
    {
     "name": "stdout",
     "output_type": "stream",
     "text": [
      "           id                category   \n",
      "0  5668626895  housing/rent/apartment  \\\n",
      "1  5664597177  housing/rent/apartment   \n",
      "2  5668626833  housing/rent/apartment   \n",
      "3  5659918074  housing/rent/apartment   \n",
      "4  5668626759  housing/rent/apartment   \n",
      "\n",
      "                                               title   \n",
      "0  Studio apartment 2nd St NE, Uhland Terrace NE,...  \\\n",
      "1                  Studio apartment 814 Schutte Road   \n",
      "2  Studio apartment N Scott St, 14th St N, Arling...   \n",
      "3                     Studio apartment 1717 12th Ave   \n",
      "4  Studio apartment Washington Blvd, N Cleveland ...   \n",
      "\n",
      "                                                body amenities  bathrooms   \n",
      "0  This unit is located at second St NE, Uhland T...        10        5.0  \\\n",
      "1  This unit is located at 814 Schutte Road, Evan...         5        5.0   \n",
      "2  This unit is located at N Scott St, 14th St N,...         5        1.0   \n",
      "3  This unit is located at 1717 12th Ave, Seattle...         7        1.0   \n",
      "4  This unit is located at Washington Blvd, N Cle...         9        5.0   \n",
      "\n",
      "   bedrooms currency fee  has_photo  ... price_display  price_type   \n",
      "0         0      USD  No  Thumbnail  ...          $790        1/12  \\\n",
      "1         1      USD  No  Thumbnail  ...          $425        1/12   \n",
      "2         0      USD  No  Thumbnail  ...        $1,390        1/12   \n",
      "3         0      USD  No  Thumbnail  ...          $925        1/12   \n",
      "4         0      USD  No  Thumbnail  ...          $880        1/12   \n",
      "\n",
      "  square_feet           address    cityname state latitude longitude   \n",
      "0         101                 5  Washington    DC  38.9057  -76.9861  \\\n",
      "1         106    814 Schutte Rd  Evansville    IN  37.9680  -87.6621   \n",
      "2         107                 5   Arlington    VA  38.8910  -77.0816   \n",
      "3         116  1717 12th Avenue     Seattle    WA  47.6160 -122.3275   \n",
      "4         125                 5   Arlington    VA  38.8738  -77.1055   \n",
      "\n",
      "      source        time  \n",
      "0  RentLingo  1577359415  \n",
      "1  RentLingo  1577017063  \n",
      "2  RentLingo  1577359410  \n",
      "3  RentLingo  1576667743  \n",
      "4  RentLingo  1577359401  \n",
      "\n",
      "[5 rows x 22 columns]\n"
     ]
    }
   ],
   "source": [
    "#Replacing string values with int\n",
    " \n",
    "new_df['price_type'].replace({'Monthly':'1/12','Weekly':'1/4','Monthly|Weekly':'2'}, inplace = True)\n",
    "print(new_df.head())"
   ]
  }
 ],
 "metadata": {
  "kernelspec": {
   "display_name": "Python 3 (ipykernel)",
   "language": "python",
   "name": "python3"
  },
  "language_info": {
   "codemirror_mode": {
    "name": "ipython",
    "version": 3
   },
   "file_extension": ".py",
   "mimetype": "text/x-python",
   "name": "python",
   "nbconvert_exporter": "python",
   "pygments_lexer": "ipython3",
   "version": "3.11.2"
  }
 },
 "nbformat": 4,
 "nbformat_minor": 2
}
